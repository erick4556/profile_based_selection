{
 "cells": [
  {
   "cell_type": "code",
   "execution_count": 38,
   "metadata": {
    "id": "IW7PJarJNH19"
   },
   "outputs": [],
   "source": [
    "import random\n",
    "import re\n",
    "import numpy as np\n",
    "from sklearn.ensemble import RandomForestClassifier\n",
    "from sklearn.neighbors import KNeighborsClassifier\n",
    "from sklearn.neural_network import MLPClassifier\n",
    "from sklearn.svm import SVC\n",
    "from sklearn.metrics import classification_report, accuracy_score, confusion_matrix\n",
    "from sklearn.feature_extraction.text import TfidfVectorizer\n",
    "from sklearn.model_selection import train_test_split\n",
    "from textblob import Word\n",
    "import pandas as pd\n",
    "import string as st\n",
    "from nltk import PorterStemmer, WordNetLemmatizer\n",
    "import matplotlib.pyplot as plt\n",
    "from nltk.tokenize import word_tokenize\n",
    "from nltk.corpus import stopwords"
   ]
  },
  {
   "cell_type": "code",
   "execution_count": null,
   "metadata": {
    "colab": {
     "base_uri": "https://localhost:8080/"
    },
    "id": "y3UL6wPvPH_I",
    "outputId": "60f95775-b525-48ff-c43e-47c36a647756"
   },
   "outputs": [],
   "source": [
    "import nltk\n",
    "\n",
    "nltk.download('all')"
   ]
  },
  {
   "cell_type": "code",
   "execution_count": 97,
   "metadata": {},
   "outputs": [],
   "source": [
    "def remove_punct(text):\n",
    "    return (\"\".join([ch for ch in text if ch not in st.punctuation]))\n",
    "\n",
    "def clean_text(text):\n",
    "    # Lowercase the text\n",
    "    text = text.lower()\n",
    "\n",
    "    # Remove punctuation\n",
    "    #text = text.translate(str.maketrans('', '', st.punctuation))\n",
    "    text = remove_punct(text)\n",
    "\n",
    "    # Tokenize the text\n",
    "    tokens = word_tokenize(text)\n",
    "\n",
    "    # Remove stopwords\n",
    "    stop_words = set(stopwords.words('english'))\n",
    "    tokens = [word for word in tokens if word not in stop_words]\n",
    "\n",
    "    # Apply PorterStemmer\n",
    "    #porter_stemmer = PorterStemmer()\n",
    "    #tokens = [porter_stemmer.stem(word) for word in tokens]\n",
    "\n",
    "    # Apply WordNetLemmatizer\n",
    "    #wordnet_lemmatizer = WordNetLemmatizer()\n",
    "    #tokens = [wordnet_lemmatizer.lemmatize(word) for word in tokens]\n",
    "\n",
    "    # Join the tokens back into a single string\n",
    "    clean_text = ' '.join(tokens)\n",
    "\n",
    "    return clean_text.strip()"
   ]
  },
  {
   "cell_type": "markdown",
   "metadata": {},
   "source": [
    "# Text cleaning and dataset preparation"
   ]
  },
  {
   "cell_type": "code",
   "execution_count": 98,
   "metadata": {
    "id": "r85LPzo-N2hF"
   },
   "outputs": [],
   "source": [
    "def prepare_dataset(dataset):\n",
    "    #Divide in features and labels. We're gonna do a tokenization and lemmatization process with the news features\n",
    "    x = dataset['news'].tolist()\n",
    "    y = dataset['type'].tolist()\n",
    "    wordnet_lemmatizer = WordNetLemmatizer()\n",
    "    print(\"Data preparation\")\n",
    "    print(\"Tokenization and Lemmatization process\", end='', flush=True)\n",
    "    for i, value in enumerate(x):\n",
    "        x[i] = ' '.join([wordnet_lemmatizer.lemmatize(word) for word in clean_text(value).split()])\n",
    "        \n",
    "    \n",
    "    #Train and test split\n",
    "    X_train, X_test, y_train, y_test = train_test_split(x, y, test_size=0.20, random_state=42)\n",
    "    vect = TfidfVectorizer(min_df=2)\n",
    "\n",
    "    #Training process\n",
    "    X_train = vect.fit_transform(X_train)\n",
    "    y_train = np.array(y_train)\n",
    "    X_test = vect.transform(X_test)\n",
    "    y_test = np.array(y_test)\n",
    "\n",
    "    #Train and test split with the vector\n",
    "    X_val, X_test, y_val, y_test = train_test_split(X_test, y_test, test_size=0.50, random_state=42)\n",
    "\n",
    "    print(\"\\n\")\n",
    "    print(\"Train set:\" + str(X_train.shape))\n",
    "    print(\"Validation set:\" + str(X_val.shape))\n",
    "    print(\"Test set:\" + str(X_test.shape))\n",
    "\n",
    "    return X_train, X_val, X_test, y_train, y_val, y_test, vect"
   ]
  },
  {
   "cell_type": "markdown",
   "metadata": {},
   "source": [
    "# Process for knowing how many neighbors we may use in the K-neighbors"
   ]
  },
  {
   "cell_type": "code",
   "execution_count": 99,
   "metadata": {},
   "outputs": [
    {
     "name": "stdout",
     "output_type": "stream",
     "text": [
      "Data preparation\n",
      "Tokenization and Lemmatization process\n",
      "\n",
      "Train set:(1952, 15235)\n",
      "Validation set:(244, 15235)\n",
      "Test set:(244, 15235)\n"
     ]
    }
   ],
   "source": [
    "dataset2 = pd.read_csv('./datasets/profile_dataset2.csv', encoding=\"ISO-8859-1\")\n",
    "y = dataset2['type'] #Variable objetivo a predecir\n",
    "X = dataset2.drop(\"type\", axis = 1) #Quitar la columna de vehicle_class\n",
    "X_train, X_val, X_test, y_train, y_val, y_test, vect = prepare_dataset(dataset2)"
   ]
  },
  {
   "cell_type": "code",
   "execution_count": 100,
   "metadata": {},
   "outputs": [
    {
     "data": {
      "text/plain": [
       "[0.09836065573770492,\n",
       " 0.11475409836065574,\n",
       " 0.10655737704918032,\n",
       " 0.0942622950819672,\n",
       " 0.0860655737704918,\n",
       " 0.09836065573770492,\n",
       " 0.09836065573770492,\n",
       " 0.09836065573770492,\n",
       " 0.09836065573770492,\n",
       " 0.0942622950819672,\n",
       " 0.09016393442622951,\n",
       " 0.0860655737704918,\n",
       " 0.0942622950819672,\n",
       " 0.09016393442622951,\n",
       " 0.09836065573770492,\n",
       " 0.09016393442622951,\n",
       " 0.09016393442622951,\n",
       " 0.09836065573770492,\n",
       " 0.10245901639344263,\n",
       " 0.09016393442622951,\n",
       " 0.0778688524590164,\n",
       " 0.0778688524590164,\n",
       " 0.06557377049180328,\n",
       " 0.07377049180327869,\n",
       " 0.0778688524590164,\n",
       " 0.08196721311475409,\n",
       " 0.0778688524590164,\n",
       " 0.0860655737704918,\n",
       " 0.0860655737704918]"
      ]
     },
     "execution_count": 100,
     "metadata": {},
     "output_type": "execute_result"
    }
   ],
   "source": [
    "#Process for knowing how many neighbors we may use\n",
    "error_rate = []\n",
    "for x in range(1,30):\n",
    "    knn = KNeighborsClassifier(n_neighbors=x)\n",
    "    knn.fit(X_train, y_train)\n",
    "    predictions_x = knn.predict(X_test)\n",
    "    #Agregar la media de los valores que encuentre diferente entre las predicciones y el valor real. \n",
    "    error_rate.append(np.mean(predictions_x != y_test))\n",
    "    \n",
    "error_rate"
   ]
  },
  {
   "cell_type": "code",
   "execution_count": 101,
   "metadata": {},
   "outputs": [
    {
     "data": {
      "text/plain": [
       "[<matplotlib.lines.Line2D at 0x1be70eea340>]"
      ]
     },
     "execution_count": 101,
     "metadata": {},
     "output_type": "execute_result"
    },
    {
     "data": {
      "image/png": "[encoded data removed]",
      "text/plain": [
       "<Figure size 432x288 with 1 Axes>"
      ]
     },
     "metadata": {
      "needs_background": "light"
     },
     "output_type": "display_data"
    }
   ],
   "source": [
    "values = range(1,30)\n",
    "plt.plot(values, error_rate, color = \"green\", marker=\"o\", markerfacecolor=\"red\", markersize=8)"
   ]
  },
  {
   "cell_type": "markdown",
   "metadata": {},
   "source": [
    "# Models functions"
   ]
  },
  {
   "cell_type": "code",
   "execution_count": 102,
   "metadata": {
    "id": "0o-Kd4deOOJy"
   },
   "outputs": [],
   "source": [
    "def NN_train_model(X_train, y_train):\n",
    "    print(\"\\nNeural Network\")\n",
    "    model = MLPClassifier(activation='relu', alpha=1e-05, batch_size='auto',\n",
    "              beta_1=0.9, beta_2=0.999, early_stopping=True,\n",
    "              epsilon=1e-08, hidden_layer_sizes=(128, 64),\n",
    "              learning_rate='constant', learning_rate_init=0.001,\n",
    "              max_iter=400, momentum=0.9, n_iter_no_change=10,\n",
    "              nesterovs_momentum=True, power_t=0.5, random_state=1,\n",
    "              shuffle=True, solver='lbfgs', tol=0.0001,\n",
    "              validation_fraction=0.1, verbose=False, warm_start=False)\n",
    "    model.fit(X_train, y_train)\n",
    "    return model\n",
    "\n",
    "def RF_train_model(X_train, y_train):\n",
    "    print(\"\\nRandom Forest\")\n",
    "    model = RandomForestClassifier(n_estimators=200, max_depth=150, n_jobs=1)\n",
    "    model.fit(X_train, y_train)\n",
    "    return model\n",
    "\n",
    "def SVC_train_model(X_train, y_train):\n",
    "    print(\"\\nSuport Vector Machine\")\n",
    "    model = SVC(kernel='linear', gamma='auto')\n",
    "    model.fit(X_train, y_train)\n",
    "    return model\n",
    "\n",
    "def KN_train_model(X_train, y_train):\n",
    "    print(\"\\nK Neighbor\")\n",
    "    model = KNeighborsClassifier(n_neighbors=5)\n",
    "    model.fit(X_train, y_train)\n",
    "    return model\n",
    "\n",
    "def evaluation_model(model, X_val, y_val):\n",
    "    y_pred = model.predict(X_val)\n",
    "    result = classification_report(y_val, y_pred)\n",
    "    accSVC = accuracy_score(y_val, y_pred)\n",
    "    print(result)\n",
    "    print(\"\\nAccuracy: \", accSVC)\n",
    "\n",
    "\n",
    "def test_model(model, X_test, y_test):\n",
    "    y_pred = model.predict(X_test)\n",
    "    acc = accuracy_score(y_test, y_pred)\n",
    "    return acc\n",
    "\n",
    "\n"
   ]
  },
  {
   "cell_type": "markdown",
   "metadata": {},
   "source": [
    "# Set users preferences"
   ]
  },
  {
   "cell_type": "code",
   "execution_count": 103,
   "metadata": {
    "id": "wee_qrw2OSbq"
   },
   "outputs": [],
   "source": [
    "topics = [\"sport\", \"tech\", \"business\", \"politics\", \"entertainment\"]\n",
    "\n",
    "# Set preferences by users\n",
    "def set_preferences(users):\n",
    "    user_preferences = {}\n",
    "    for user in users:\n",
    "        preferences = []\n",
    "        possibilities = list(topics)\n",
    "        for pref in range(random.randint(1, 3)):\n",
    "            category = random.choice(possibilities)\n",
    "            preferences.append(category)\n",
    "            possibilities.remove(category)\n",
    "        user_preferences[user] = preferences\n",
    "    return user_preferences\n",
    "\n",
    "# Predict the document type\n",
    "def predict_doc_type(doc, vect, model):\n",
    "    document_cleaned = clean_text(doc)\n",
    "    corpus = []\n",
    "    corpus.append(document_cleaned)\n",
    "    test_vect = vect.transform(corpus)\n",
    "    return model.predict(test_vect)[0]\n",
    "\n",
    "\n",
    "# Testing results\n",
    "def run_test(vect, model):\n",
    "    users = [\"Gabriela\", \"Pablo\", \"Erick\", \"Marco\", \"Sam\", \"Luis\"]\n",
    "    users_preferences = set_preferences(users)\n",
    "    print(\"\\n\")\n",
    "    print(\"User preferences:\")\n",
    "    for user in users_preferences:\n",
    "        print(user, \"likes these topics:\", users_preferences[user])\n",
    "    print(\"\\n\")\n",
    "\n",
    "    while True:\n",
    "        try:\n",
    "            test_corpus = input(\"Enter a text about a specific tpic. If you wanna quit, please press 'e' or if you wanna reassign the preferences please press 'a':\\n\")\n",
    "        except ValueError:\n",
    "            continue\n",
    "        if test_corpus == \"e\":\n",
    "            break\n",
    "        if test_corpus == \"a\":\n",
    "            users_preferences = set_preferences(users)\n",
    "            print(\"\\n\")\n",
    "            print(\"User preferences:\")\n",
    "            for user in users_preferences:\n",
    "                print(user, \"likes these topics:\", users_preferences[user])\n",
    "            print(\"\\n\")\n",
    "            continue\n",
    "            \n",
    "        else:\n",
    "\n",
    "            result = predict_doc_type(test_corpus, vect, model)\n",
    "            if (result == \"sport\"):\n",
    "                topic = result.upper()\n",
    "            if (result == \"tech\"):\n",
    "                topic = result.upper()\n",
    "            if(result == \"business\"):\n",
    "                topic = result.upper()\n",
    "            if (result == \"entertainment\"):\n",
    "                topic = result.upper()\n",
    "            if (result == \"politics\"):\n",
    "                topic = result.upper()\n",
    "            print(\"\\n\")\n",
    "            print(\"This article talks about \"+ topic + \" \" + \"and it's addressed to:\")\n",
    "            for user in users_preferences:\n",
    "                if result in users_preferences[user]:\n",
    "                    print(user)\n",
    "            continue"
   ]
  },
  {
   "cell_type": "code",
   "execution_count": 104,
   "metadata": {
    "id": "E5rBbKL-OXY5"
   },
   "outputs": [],
   "source": [
    "def test_project():\n",
    "    # Load dataset and data preparation\n",
    "    dataset = pd.read_csv('./datasets/profile_dataset2.csv', encoding=\"ISO-8859-1\")\n",
    "    print(\"Data\", dataset.shape)\n",
    "    X_train, X_val, X_test, y_train, y_val, y_test, vect = prepare_dataset(dataset)\n",
    "\n",
    "    # Models training\n",
    "    print(\"\\n\")\n",
    "    print(\"Models Training\")\n",
    "    \n",
    "    # Suport Vector Machine\n",
    "    svc_model = SVC_train_model(X_train, y_train)\n",
    "    evaluation_model(svc_model, X_val, y_val)\n",
    "    # Random Forest\n",
    "    rf_model = RF_train_model(X_train, y_train)\n",
    "    evaluation_model(rf_model, X_val, y_val)\n",
    "    # Neural Network\n",
    "    nn_model = NN_train_model(X_train, y_train)\n",
    "    evaluation_model(nn_model, X_val, y_val)\n",
    "    # K Neighbor\n",
    "    kn_model = KN_train_model(X_train, y_train)\n",
    "    evaluation_model(kn_model, X_val, y_val)\n",
    "\n",
    "\n",
    "    # Models testing\n",
    "    print(\"\\n\")\n",
    "    print(\"Models testing\\n\")\n",
    "    print(\"Suport Vector Machine:\", test_model(svc_model, X_test, y_test))\n",
    "    print(\"Random Forest:\", test_model(rf_model, X_test, y_test))\n",
    "    print(\"Neural Network:\", test_model(nn_model, X_test, y_test))\n",
    "    print(\"K Neighbors:\", test_model(kn_model, X_test, y_test))\n",
    "\n",
    "\n",
    "    # Run test\n",
    "    #We pass the vector and any model we have trained\n",
    "    run_test(vect, svc_model)\n"
   ]
  },
  {
   "cell_type": "code",
   "execution_count": 105,
   "metadata": {
    "colab": {
     "base_uri": "https://localhost:8080/"
    },
    "id": "L2w-pbQSO98d",
    "outputId": "6621f3b5-f040-4209-8459-8117d0cf3add"
   },
   "outputs": [
    {
     "name": "stdout",
     "output_type": "stream",
     "text": [
      "Data (2440, 2)\n",
      "Data preparation\n",
      "Tokenization and Lemmatization process\n",
      "\n",
      "Train set:(1952, 15235)\n",
      "Validation set:(244, 15235)\n",
      "Test set:(244, 15235)\n",
      "\n",
      "\n",
      "Models Training\n",
      "\n",
      "Suport Vector Machine\n",
      "               precision    recall  f1-score   support\n",
      "\n",
      "     business       0.97      0.92      0.94        63\n",
      "entertainment       0.97      0.95      0.96        39\n",
      "     politics       0.89      0.98      0.93        41\n",
      "        sport       0.98      0.98      0.98        58\n",
      "         tech       0.95      0.95      0.95        43\n",
      "\n",
      "     accuracy                           0.95       244\n",
      "    macro avg       0.95      0.96      0.95       244\n",
      " weighted avg       0.96      0.95      0.96       244\n",
      "\n",
      "\n",
      "Accuracy:  0.9549180327868853\n",
      "\n",
      "Random Forest\n",
      "               precision    recall  f1-score   support\n",
      "\n",
      "     business       0.96      0.87      0.92        63\n",
      "entertainment       0.97      0.95      0.96        39\n",
      "     politics       0.93      0.98      0.95        41\n",
      "        sport       0.95      0.97      0.96        58\n",
      "         tech       0.83      0.91      0.87        43\n",
      "\n",
      "     accuracy                           0.93       244\n",
      "    macro avg       0.93      0.93      0.93       244\n",
      " weighted avg       0.93      0.93      0.93       244\n",
      "\n",
      "\n",
      "Accuracy:  0.930327868852459\n",
      "\n",
      "Neural Network\n",
      "               precision    recall  f1-score   support\n",
      "\n",
      "     business       0.97      0.89      0.93        63\n",
      "entertainment       1.00      0.95      0.97        39\n",
      "     politics       0.83      0.95      0.89        41\n",
      "        sport       0.97      0.98      0.97        58\n",
      "         tech       0.93      0.93      0.93        43\n",
      "\n",
      "     accuracy                           0.94       244\n",
      "    macro avg       0.94      0.94      0.94       244\n",
      " weighted avg       0.94      0.94      0.94       244\n",
      "\n",
      "\n",
      "Accuracy:  0.9385245901639344\n",
      "\n",
      "K Neighbor\n",
      "               precision    recall  f1-score   support\n",
      "\n",
      "     business       0.90      0.90      0.90        63\n",
      "entertainment       1.00      0.92      0.96        39\n",
      "     politics       0.86      0.93      0.89        41\n",
      "        sport       1.00      0.97      0.98        58\n",
      "         tech       0.89      0.93      0.91        43\n",
      "\n",
      "     accuracy                           0.93       244\n",
      "    macro avg       0.93      0.93      0.93       244\n",
      " weighted avg       0.93      0.93      0.93       244\n",
      "\n",
      "\n",
      "Accuracy:  0.930327868852459\n",
      "\n",
      "\n",
      "Models testing\n",
      "\n",
      "Suport Vector Machine: 0.9631147540983607\n",
      "Random Forest: 0.9508196721311475\n",
      "Neural Network: 0.9426229508196722\n",
      "K Neighbors: 0.9139344262295082\n",
      "\n",
      "\n",
      "User preferences:\n",
      "Gabriela likes these topics: ['business', 'tech', 'entertainment']\n",
      "Pablo likes these topics: ['politics', 'tech', 'business']\n",
      "Erick likes these topics: ['politics', 'entertainment', 'business']\n",
      "Marco likes these topics: ['business', 'entertainment', 'politics']\n",
      "Sam likes these topics: ['sport', 'politics', 'business']\n",
      "Luis likes these topics: ['business', 'politics']\n",
      "\n",
      "\n",
      "Enter a text about a specific tpic. If you wanna quit, please press 'e' or if you wanna reassign the preferences please press 'a':\n",
      "Liverpool's Eurovision arena had 'unacceptable' crowd congestion at gig\n",
      "\n",
      "\n",
      "This article talks about SPORT and it's addressed to:\n",
      "Sam\n",
      "Enter a text about a specific tpic. If you wanna quit, please press 'e' or if you wanna reassign the preferences please press 'a':\n",
      "The Academy Awards, also known as the Oscars, are awards for artistic and technical merit for the film industry.\n",
      "\n",
      "\n",
      "This article talks about ENTERTAINMENT and it's addressed to:\n",
      "Gabriela\n",
      "Erick\n",
      "Marco\n",
      "Enter a text about a specific tpic. If you wanna quit, please press 'e' or if you wanna reassign the preferences please press 'a':\n",
      "Lionel Messi: Barcelona 'in contact' with PSG forward about Nou Camp return\n",
      "\n",
      "\n",
      "This article talks about SPORT and it's addressed to:\n",
      "Sam\n",
      "Enter a text about a specific tpic. If you wanna quit, please press 'e' or if you wanna reassign the preferences please press 'a':\n",
      "US-China chip war: Japan plans to restrict some equipment exports\n",
      "\n",
      "\n",
      "This article talks about TECH and it's addressed to:\n",
      "Gabriela\n",
      "Pablo\n",
      "Enter a text about a specific tpic. If you wanna quit, please press 'e' or if you wanna reassign the preferences please press 'a':\n",
      "Trump will not appear in court in handcuffs - lawyer\n",
      "\n",
      "\n",
      "This article talks about BUSINESS and it's addressed to:\n",
      "Gabriela\n",
      "Pablo\n",
      "Erick\n",
      "Marco\n",
      "Sam\n",
      "Luis\n",
      "Enter a text about a specific tpic. If you wanna quit, please press 'e' or if you wanna reassign the preferences please press 'a':\n",
      "US Senate Republican leader Mitch McConnell treated for concussion\n",
      "\n",
      "\n",
      "This article talks about BUSINESS and it's addressed to:\n",
      "Gabriela\n",
      "Pablo\n",
      "Erick\n",
      "Marco\n",
      "Sam\n",
      "Luis\n"
     ]
    },
    {
     "ename": "KeyboardInterrupt",
     "evalue": "Interrupted by user",
     "output_type": "error",
     "traceback": [
      "\u001b[1;31m---------------------------------------------------------------------------\u001b[0m",
      "\u001b[1;31mKeyboardInterrupt\u001b[0m                         Traceback (most recent call last)",
      "Input \u001b[1;32mIn [105]\u001b[0m, in \u001b[0;36m<cell line: 1>\u001b[1;34m()\u001b[0m\n\u001b[1;32m----> 1\u001b[0m \u001b[43mtest_project\u001b[49m\u001b[43m(\u001b[49m\u001b[43m)\u001b[49m\n",
      "Input \u001b[1;32mIn [104]\u001b[0m, in \u001b[0;36mtest_project\u001b[1;34m()\u001b[0m\n\u001b[0;32m     31\u001b[0m \u001b[38;5;28mprint\u001b[39m(\u001b[38;5;124m\"\u001b[39m\u001b[38;5;124mK Neighbors:\u001b[39m\u001b[38;5;124m\"\u001b[39m, test_model(kn_model, X_test, y_test))\n\u001b[0;32m     34\u001b[0m \u001b[38;5;66;03m# Run test\u001b[39;00m\n\u001b[0;32m     35\u001b[0m \u001b[38;5;66;03m#We pass the vector and any model we have trained\u001b[39;00m\n\u001b[1;32m---> 36\u001b[0m \u001b[43mrun_test\u001b[49m\u001b[43m(\u001b[49m\u001b[43mvect\u001b[49m\u001b[43m,\u001b[49m\u001b[43m \u001b[49m\u001b[43msvc_model\u001b[49m\u001b[43m)\u001b[49m\n",
      "Input \u001b[1;32mIn [103]\u001b[0m, in \u001b[0;36mrun_test\u001b[1;34m(vect, model)\u001b[0m\n\u001b[0;32m     35\u001b[0m \u001b[38;5;28;01mwhile\u001b[39;00m \u001b[38;5;28;01mTrue\u001b[39;00m:\n\u001b[0;32m     36\u001b[0m     \u001b[38;5;28;01mtry\u001b[39;00m:\n\u001b[1;32m---> 37\u001b[0m         test_corpus \u001b[38;5;241m=\u001b[39m \u001b[38;5;28;43minput\u001b[39;49m\u001b[43m(\u001b[49m\u001b[38;5;124;43m\"\u001b[39;49m\u001b[38;5;124;43mEnter a text about a specific tpic. If you wanna quit, please press \u001b[39;49m\u001b[38;5;124;43m'\u001b[39;49m\u001b[38;5;124;43me\u001b[39;49m\u001b[38;5;124;43m'\u001b[39;49m\u001b[38;5;124;43m or if you wanna reassign the preferences please press \u001b[39;49m\u001b[38;5;124;43m'\u001b[39;49m\u001b[38;5;124;43ma\u001b[39;49m\u001b[38;5;124;43m'\u001b[39;49m\u001b[38;5;124;43m:\u001b[39;49m\u001b[38;5;130;43;01m\\n\u001b[39;49;00m\u001b[38;5;124;43m\"\u001b[39;49m\u001b[43m)\u001b[49m\n\u001b[0;32m     38\u001b[0m     \u001b[38;5;28;01mexcept\u001b[39;00m \u001b[38;5;167;01mValueError\u001b[39;00m:\n\u001b[0;32m     39\u001b[0m         \u001b[38;5;28;01mcontinue\u001b[39;00m\n",
      "File \u001b[1;32m~\\anaconda3\\lib\\site-packages\\ipykernel\\kernelbase.py:1075\u001b[0m, in \u001b[0;36mKernel.raw_input\u001b[1;34m(self, prompt)\u001b[0m\n\u001b[0;32m   1071\u001b[0m \u001b[38;5;28;01mif\u001b[39;00m \u001b[38;5;129;01mnot\u001b[39;00m \u001b[38;5;28mself\u001b[39m\u001b[38;5;241m.\u001b[39m_allow_stdin:\n\u001b[0;32m   1072\u001b[0m     \u001b[38;5;28;01mraise\u001b[39;00m StdinNotImplementedError(\n\u001b[0;32m   1073\u001b[0m         \u001b[38;5;124m\"\u001b[39m\u001b[38;5;124mraw_input was called, but this frontend does not support input requests.\u001b[39m\u001b[38;5;124m\"\u001b[39m\n\u001b[0;32m   1074\u001b[0m     )\n\u001b[1;32m-> 1075\u001b[0m \u001b[38;5;28;01mreturn\u001b[39;00m \u001b[38;5;28;43mself\u001b[39;49m\u001b[38;5;241;43m.\u001b[39;49m\u001b[43m_input_request\u001b[49m\u001b[43m(\u001b[49m\n\u001b[0;32m   1076\u001b[0m \u001b[43m    \u001b[49m\u001b[38;5;28;43mstr\u001b[39;49m\u001b[43m(\u001b[49m\u001b[43mprompt\u001b[49m\u001b[43m)\u001b[49m\u001b[43m,\u001b[49m\n\u001b[0;32m   1077\u001b[0m \u001b[43m    \u001b[49m\u001b[38;5;28;43mself\u001b[39;49m\u001b[38;5;241;43m.\u001b[39;49m\u001b[43m_parent_ident\u001b[49m\u001b[43m[\u001b[49m\u001b[38;5;124;43m\"\u001b[39;49m\u001b[38;5;124;43mshell\u001b[39;49m\u001b[38;5;124;43m\"\u001b[39;49m\u001b[43m]\u001b[49m\u001b[43m,\u001b[49m\n\u001b[0;32m   1078\u001b[0m \u001b[43m    \u001b[49m\u001b[38;5;28;43mself\u001b[39;49m\u001b[38;5;241;43m.\u001b[39;49m\u001b[43mget_parent\u001b[49m\u001b[43m(\u001b[49m\u001b[38;5;124;43m\"\u001b[39;49m\u001b[38;5;124;43mshell\u001b[39;49m\u001b[38;5;124;43m\"\u001b[39;49m\u001b[43m)\u001b[49m\u001b[43m,\u001b[49m\n\u001b[0;32m   1079\u001b[0m \u001b[43m    \u001b[49m\u001b[43mpassword\u001b[49m\u001b[38;5;241;43m=\u001b[39;49m\u001b[38;5;28;43;01mFalse\u001b[39;49;00m\u001b[43m,\u001b[49m\n\u001b[0;32m   1080\u001b[0m \u001b[43m\u001b[49m\u001b[43m)\u001b[49m\n",
      "File \u001b[1;32m~\\anaconda3\\lib\\site-packages\\ipykernel\\kernelbase.py:1120\u001b[0m, in \u001b[0;36mKernel._input_request\u001b[1;34m(self, prompt, ident, parent, password)\u001b[0m\n\u001b[0;32m   1117\u001b[0m             \u001b[38;5;28;01mbreak\u001b[39;00m\n\u001b[0;32m   1118\u001b[0m \u001b[38;5;28;01mexcept\u001b[39;00m \u001b[38;5;167;01mKeyboardInterrupt\u001b[39;00m:\n\u001b[0;32m   1119\u001b[0m     \u001b[38;5;66;03m# re-raise KeyboardInterrupt, to truncate traceback\u001b[39;00m\n\u001b[1;32m-> 1120\u001b[0m     \u001b[38;5;28;01mraise\u001b[39;00m \u001b[38;5;167;01mKeyboardInterrupt\u001b[39;00m(\u001b[38;5;124m\"\u001b[39m\u001b[38;5;124mInterrupted by user\u001b[39m\u001b[38;5;124m\"\u001b[39m) \u001b[38;5;28;01mfrom\u001b[39;00m \u001b[38;5;28mNone\u001b[39m\n\u001b[0;32m   1121\u001b[0m \u001b[38;5;28;01mexcept\u001b[39;00m \u001b[38;5;167;01mException\u001b[39;00m:\n\u001b[0;32m   1122\u001b[0m     \u001b[38;5;28mself\u001b[39m\u001b[38;5;241m.\u001b[39mlog\u001b[38;5;241m.\u001b[39mwarning(\u001b[38;5;124m\"\u001b[39m\u001b[38;5;124mInvalid Message:\u001b[39m\u001b[38;5;124m\"\u001b[39m, exc_info\u001b[38;5;241m=\u001b[39m\u001b[38;5;28;01mTrue\u001b[39;00m)\n",
      "\u001b[1;31mKeyboardInterrupt\u001b[0m: Interrupted by user"
     ]
    }
   ],
   "source": [
    "test_project()"
   ]
  },
  {
   "cell_type": "code",
   "execution_count": null,
   "metadata": {
    "id": "bwH36RQeJGJm"
   },
   "outputs": [],
   "source": []
  }
 ],
 "metadata": {
  "accelerator": "GPU",
  "colab": {
   "machine_shape": "hm",
   "provenance": []
  },
  "gpuClass": "standard",
  "kernelspec": {
   "display_name": "Python 3 (ipykernel)",
   "language": "python",
   "name": "python3"
  },
  "language_info": {
   "codemirror_mode": {
    "name": "ipython",
    "version": 3
   },
   "file_extension": ".py",
   "mimetype": "text/x-python",
   "name": "python",
   "nbconvert_exporter": "python",
   "pygments_lexer": "ipython3",
   "version": "3.9.12"
  }
 },
 "nbformat": 4,
 "nbformat_minor": 1
}
